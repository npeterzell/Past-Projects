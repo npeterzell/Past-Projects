{
 "cells": [
  {
   "cell_type": "markdown",
   "metadata": {
    "id": "UboSCHcqteNW"
   },
   "source": [
    "# Section 1: Knapsack Problem with Genetic Algorithms vs. Dynamic Programming\n",
    "## Introduction\n",
    "The problem:\n",
    "In this assignment, we’ll be using both a Genetic Algorithm to find the solution to a 01-Knapsack Problem. The Knapsack Problem is an optimization problem where given a set of weights and values of $n$ objects, collect them into a bag (or a \"knapsack\") of maximum value such that their cumulative weight does not exceed capacity. The goal is to get the maximum value from the items in the knapsack. Since this problem is a 01-Knapsack, we can only take one of each object, or none. Read more about the Knapsack Problem [here](https://en.wikipedia.org/wiki/Knapsack_problem).\n",
    "\n",
    "\n",
    "In notation form, we are trying to maximize $\\sum_{i=1}^{n} (values[i]*choices[i])$ subject to $\\sum_{i=1}^{n} (weights[i]*choices[i]) \\leq capacity$, where $weights[i] \\in {0,1}$.\n",
    "\n",
    "We have provided code stubs in this notebook to get you started, and give hints about the structure of the code.\n",
    "\n",
    "You need to implement a Genetic Algorithm to find the best Knapsack Solution, and compare the results to the Dynamic Programming Algorithm. Dynamic Programming is another way to solve Knapsack, and it is already coded for you.  \n",
    "\n",
    "You will need to submit a report along with the finished Jupyter notebook in which you should report the performances in the form of tables as well as plots.\n"
   ]
  },
  {
   "cell_type": "markdown",
   "metadata": {
    "id": "P8GDzNEfuSa7"
   },
   "source": [
    "## Approach:  \n",
    "Let’s start with a few definitions.\n",
    "- Individual (aka “chromosome”): a solution to the Knapsack problem, called an Allocation. It is specified by a choices array, which is a list of 0's and 1's, each representing whether an object is included in the knapsack. Each Allocation also has a weight associated with it. \n",
    "- Population: a collection of possible Allocations (i.e., collection of individuals)\n",
    "- Parents: two Allocations that are combined to create a new Allocation\n",
    "- Mating pool: a collection of parents that are used to create our next population (thus creating the next generation of Allocation)\n",
    "- Fitness: a function that tells us how good each Allocation is (in our case, how much value we gain without exceeding capacity)\n",
    "- Mutation: a way to introduce variation in our population by randomly inverting elements in the Allocation's choices array. \n",
    "- Elitism: a way to carry the best individuals into the next generation    \n",
    "  \n",
    "Our GA will proceed in the following steps:\n",
    "- 1. Create the population\n",
    "- 2. Rank the population according to fitness in decreasing order\n",
    "- 3. Select the mating pool\n",
    "- 4. Breed\n",
    "- 5. Mutate to create the next generation\n",
    "- 6. Repeat  \n",
    "Now, let’s see this in action."
   ]
  },
  {
   "cell_type": "code",
   "execution_count": 1,
   "metadata": {
    "id": "lF7mceSix3PK"
   },
   "outputs": [],
   "source": [
    "import numpy as np, random, operator, pandas as pd, matplotlib.pyplot as plt\n",
    "import operator\n",
    "import math\n",
    "from sklearn.datasets import load_breast_cancer\n",
    "import sklearn\n",
    "from sklearn.model_selection import train_test_split\n",
    "from datetime import datetime"
   ]
  },
  {
   "cell_type": "markdown",
   "metadata": {
    "id": "eD85FD4u1fRK"
   },
   "source": [
    "### Creating the Knapsack Game\n",
    "Each unique Knapsack game has its own $capacity$ value, $weights$ vector, and $values$ vector. Below is a function used to randomly create a knapsack game of specified size (size = number of objects in knapsack game). We already have used this function to create a game of size 300 that will be used both Genetic Algortihm and Dynamic Programming for comparison later on. \n",
    "\n",
    "The functions saveGame() and loadGame() are used to save the game as a file and re-load this file into the notebook, so that everyone is using the same randomly created game. We have provided the game file for you (on Canvas), and we load this file in using the function loadGame(). The game file must be in the same folder as this assignment file. You can upload files to Colab using the file icon in the left pane.\n",
    "\n",
    "Please note that $n$ = the size parameter used here. In this assignment, we will analyze medium-sized Knapsack games, with 300 objects."
   ]
  },
  {
   "cell_type": "code",
   "execution_count": 2,
   "metadata": {
    "id": "bC6rwI7BTIZ0"
   },
   "outputs": [],
   "source": [
    "def createGame(size):\n",
    "    \"\"\"\n",
    "    size : the number of objects in the knapsack game\n",
    "    This function should return a knapsack game in dictionary form \n",
    "    \"\"\"\n",
    "    upperbound = size // 20 \n",
    "    choices = range(1, upperbound)\n",
    "    values = []\n",
    "    weights = []\n",
    "\n",
    "    totalWeight = 0\n",
    "    for i in range(size):\n",
    "        values.append(random.choice(choices))\n",
    "        weights.append(random.choice(choices))\n",
    "        totalWeight += weights[i]\n",
    "    \n",
    "\n",
    "    capacity = totalWeight // 2\n",
    "\n",
    "    game = {'values': values, 'weights': weights, 'capacity': capacity}\n",
    "    print(\"Capacity: \" + str(capacity))\n",
    "\n",
    "    return game \n",
    "\n",
    "def saveGame(game):\n",
    "    N = len(game['values'])\n",
    "    combined = np.array(game['values'] + game['weights'] + [game['capacity']])\n",
    "    np.savetxt('game.txt', combined)\n",
    "\n",
    "def loadGame(fname):\n",
    "    \"\"\"\n",
    "    This function loads a knapsack game (weights, values and capacity) from the\n",
    "    specified file. It returns a dictionary containing these 3 game parameters\n",
    "    \"\"\"\n",
    "\n",
    "    combined = np.loadtxt(fname)\n",
    "    N = (len(combined) - 1) // 2\n",
    "\n",
    "    values = combined[:N].tolist()\n",
    "    weights = combined[N:2*N].tolist()\n",
    "    capacity = combined[-1]\n",
    "\n",
    "    return {'values': values, 'weights': weights, 'capacity': capacity}"
   ]
  },
  {
   "cell_type": "code",
   "execution_count": 3,
   "metadata": {
    "id": "FD-pxQIZgw-r"
   },
   "outputs": [],
   "source": [
    "game = loadGame('game.txt')"
   ]
  },
  {
   "cell_type": "markdown",
   "metadata": {
    "id": "43z7lnPY1iaC"
   },
   "source": [
    "## Create necessary classes and functions\n",
    "We first create a class that will represent and handle an individual in the population, called an Allocation, or a Knapsack Solution. An Allocation is represented by a $choices$ array of 0's and 1's, representing whether we took each object, and a weight variable.\n",
    "\n",
    "Fitness is calculated as the total value of this Allocation. If $values$ and $choices$ are two arrays each representing every object in this game, this total value is equal to the sum of $value[i]*choices[i]$ for every object in the game. In other words, $\\sum_{i=1}^{n} (values[i]*choices[i])$ = fitness for an Allocation with a $choices$ array and a Knapsack game with a $values$ array.\n",
    "\n",
    "\n",
    "\n"
   ]
  },
  {
   "cell_type": "code",
   "execution_count": 4,
   "metadata": {
    "id": "8oBqBDAi1kl3"
   },
   "outputs": [],
   "source": [
    "class Allocation:\n",
    "    def __init__(self, choices):\n",
    "        \"\"\"\n",
    "        choices : an array representing this Allocation's knapsack object choices\n",
    "        weight : the total weight of this Allocation (assigned later on)\n",
    "        \"\"\"\n",
    "        self.choices = choices\n",
    "        self.weight = 0\n",
    "    \n",
    "    def fitness(self, game):\n",
    "        \"\"\"\n",
    "        game : dictionary containing values, weights, and capacity \n",
    "        This fitness function is defined as the total value of this Allocation.\n",
    "        \"\"\"\n",
    "        fitness = np.dot(game['values'], self.choices)\n",
    "        \n",
    "        self.weight = np.dot(game['weights'], self.choices)\n",
    "        \n",
    "        if self.weight > game['capacity']:\n",
    "            return -1\n",
    "        \n",
    "        else:\n",
    "            return fitness"
   ]
  },
  {
   "cell_type": "markdown",
   "metadata": {
    "id": "z5nl1KPnG1XB"
   },
   "source": [
    "## Create our initial population\n",
    "Allocation generator.  \n",
    "We now can make our initial population (aka first generation). To do so, we need a way to create a function that produces random Allocations. To create an individual, we randomly select the choice for each object in the knapsack problem. This means that for each object, we decide whether we take the object in the knapsack (assign a value of 1 to choices), or not (assign a value of 0). Even though we are starting out with a completely random initial population, there is still a chance for convergence. \n",
    "\n",
    "The first function here produces one random individual, and in the next function, we create the whole initial population by repeatedly calling randomAllocation()."
   ]
  },
  {
   "cell_type": "code",
   "execution_count": 5,
   "metadata": {
    "id": "0kQU-xVD1pwl"
   },
   "outputs": [],
   "source": [
    "def randomAllocation(game):\n",
    "    \"\"\"\n",
    "    Creates a random Allocation. The elements of the choices array are randomly assigned (0 or 1)\n",
    "    \"\"\"\n",
    "    choices = []\n",
    "    \n",
    "    for num in range(len(game['values'])):\n",
    "        choices.append(random.randint(0, 1))\n",
    "        \n",
    "    allocation = Allocation(choices)\n",
    "        \n",
    "    return allocation\n",
    "\n",
    "def initialPopulation(game, popSize):\n",
    "    \"\"\"\n",
    "    Create inital population of a given size.\n",
    "    Returns a list of random Allocations\n",
    "    \"\"\"\n",
    "    pop = []\n",
    "    for i in range(popSize):\n",
    "        temp = randomAllocation(game)\n",
    "        pop.append(temp)\n",
    "    \n",
    "    return pop "
   ]
  },
  {
   "cell_type": "markdown",
   "metadata": {
    "id": "Ui_8ZCvHIx4y"
   },
   "source": [
    "Note: we only have to use these functions to create the initial population. Subsequent generations will be produced through breeding and mutation."
   ]
  },
  {
   "cell_type": "markdown",
   "metadata": {
    "id": "tS2KhYduI5kM"
   },
   "source": [
    "## Create the genetic algorithm - Rank by Fitness\n",
    "Rank individuals  \n",
    "Next, the evolutionary fun begins. To simulate our “survival of the fittest”, we can make use of Fitness to rank each individual in the population. Our output will be an ordered list with the Allocation IDs and each associated fitness score."
   ]
  },
  {
   "cell_type": "code",
   "execution_count": 6,
   "metadata": {
    "id": "jpLp7-nQ1sGB"
   },
   "outputs": [],
   "source": [
    "def rankPopulation(game, population):\n",
    "    \"\"\"\n",
    "    This function sorts the given population in decreasing order of the fitness score.\n",
    "    Returns a list of ordered pairs of (index, fitness) where index is the index of the\n",
    "    individual within the population\n",
    "    \"\"\"\n",
    "    fitnessResults = {}\n",
    "    for i in range(0,len(population)):\n",
    "        fitnessResults[i] = population[i].fitness(game)\n",
    "    return sorted(fitnessResults.items(), key = operator.itemgetter(1), reverse = True)"
   ]
  },
  {
   "cell_type": "markdown",
   "metadata": {
    "id": "Nd6_KKjeJH2r"
   },
   "source": [
    "## Select the mating pool\n",
    "There are a few options for how to select the parents that will be used to create the next generation. The most common approaches are either fitness proportionate selection (aka “roulette wheel selection”) or tournament selection:\n",
    "- Fitness proportionate selection (the version implemented below): The fitness of each individual relative to the population is used to assign a probability of selection. Think of this as the fitness-weighted probability of being selected.\n",
    "- Tournament selection: A set number of individuals are randomly selected from the population and the one with the highest fitness in the group is chosen as the first parent. This is repeated to chose the second parent.  \n",
    "\n",
    "Another design feature to consider is the use of elitism. With elitism, the best performing individuals from the population will automatically carry over to the next generation, ensuring that the most successful individuals persist.  \n",
    "For the purpose of clarity, we’ll create the mating pool in two steps. First, we’ll use the output from rankPopulation to determine which Allocations to select in our selection function. Then, we set up the roulette wheel by calculating a relative fitness weight for each individual. Next, we compare a randomly drawn number to these weights to select our mating pool. We’ll also want to hold on to our best Allocations, so we introduce elitism. Ultimately, the selection function returns a list of Allocation IDs, which we can use to create the mating pool in the matingPool function."
   ]
  },
  {
   "cell_type": "code",
   "execution_count": 7,
   "metadata": {
    "id": "Ce4ig_mu1tdf"
   },
   "outputs": [],
   "source": [
    "def selection(popRanked, eliteSize):\n",
    "    \"\"\"\n",
    "    popRanked: output of rankpopulation()\n",
    "    eliteSize: number of highest ranked individuals we will retain in the next generation\n",
    "    This function returns a list of indices of individuals selected to form the mating pool\n",
    "    \"\"\"\n",
    "    selectionResults = []\n",
    "    df = pd.DataFrame(np.array(popRanked), columns=[\"Index\",\"Fitness\"])\n",
    "    df['cum_sum'] = df.Fitness.cumsum()\n",
    "    df['cum_perc'] = 100*df.cum_sum/df.Fitness.sum()\n",
    "    \n",
    "    for i in range(0, eliteSize):\n",
    "        selectionResults.append(popRanked[i][0])\n",
    "    for i in range(0, len(popRanked) - eliteSize):\n",
    "        pick = 100*random.random()\n",
    "        for i in range(0, len(popRanked)):\n",
    "            if pick <= df.iat[i,3]:\n",
    "                selectionResults.append(popRanked[i][0])\n",
    "                break\n",
    "    return selectionResults"
   ]
  },
  {
   "cell_type": "markdown",
   "metadata": {
    "id": "hLo_tiPwJi0f"
   },
   "source": [
    "Now that we have the IDs of the Allocations that will make up our mating pool from the selection function, we can create the mating pool. We’re simply extracting the selected individuals from our population."
   ]
  },
  {
   "cell_type": "code",
   "execution_count": 8,
   "metadata": {
    "id": "o7PIszD01vUZ"
   },
   "outputs": [],
   "source": [
    "def matingPool(population, selectionResults):\n",
    "    \"\"\"\n",
    "    Create the mating pool\n",
    "    \"\"\"\n",
    "    matingpool = []\n",
    "    for i in range(0, len(selectionResults)):\n",
    "        index = selectionResults[i]\n",
    "        matingpool.append(population[index])\n",
    "    return matingpool"
   ]
  },
  {
   "cell_type": "markdown",
   "metadata": {
    "id": "Oia1DgtJ2GYh"
   },
   "source": [
    "## Breed\n",
    "\n",
    "With our mating pool created, we can create the next generation in a process called crossover (aka “breeding”). Again, each Allocation can be represented by the choices array. \n",
    "\n",
    "You will implement three crossover funtions, and each one will produce two children rather than one. For more efficient breeding, each parent pair will have two children. In each crossover function, it is your job to figure out how to best create two different offsprings for each parent pair. \n",
    "\n",
    "In crossover_split, we randomly select an index to split the parents each into two parts, and create two children. The first child should be comprised of the first part of parent1, and the second part of parent2. The second child should be comprised of the first part of parent2, and the second part of parent1.  \n",
    "\n",
    "There is a crossover wrapper function, which is what gets called later on. Inside of this function, based on the passed crossover type, we call the appopriate function to be used in the genetic algorithm.\n",
    "\n",
    "In addition to split crossover, you need to implement two additional crossover functions which you must devise. Here, sol1 and sol2 are two different Allocation objects. You can rename the second and third crossover function.\n"
   ]
  },
  {
   "cell_type": "code",
   "execution_count": 9,
   "metadata": {
    "id": "JsvxU1bF1115"
   },
   "outputs": [],
   "source": [
    "def crossover_split(sol1, sol2):\n",
    "    \"\"\"\n",
    "    sol1, sol2: type Allocation\n",
    "    Split crossover as described in the write-up\n",
    "    This function should return two Allocation objects\n",
    "    \"\"\"\n",
    "    split = random.randint(0, len(sol1.choices))\n",
    "    \n",
    "    child1 = Allocation(sol1.choices[:split] + sol2.choices[split:])\n",
    "    child2 = Allocation(sol2.choices[:split] + sol1.choices[split:])\n",
    "    \n",
    "    return child1, child2\n",
    "\n",
    "def random_third(sol1, sol2):\n",
    "    \"\"\"\n",
    "    Your own crossover function. It should return two children created by \n",
    "    crossing over sol1 and sol2\n",
    "    This function should return two Allocation objects\n",
    "    \"\"\"\n",
    "    number = len(sol1.choices) // 3\n",
    "    selected = random.sample(range(len(sol1.choices)), number)\n",
    "    child1_choices = list(sol1.choices)\n",
    "    child2_choices = list(sol2.choices)\n",
    "    \n",
    "    for choice in selected:\n",
    "        child1_choices[choice] = child2_choices[choice]\n",
    "        child2_choices[choice] = child1_choices[choice]\n",
    "            \n",
    "    return Allocation(child1_choices), Allocation(child2_choices)\n",
    "\n",
    "\n",
    "def ordered_crossover(sol1, sol2):\n",
    "    \"\"\"\n",
    "    Your own crossover function. It should return two children created by \n",
    "    crossing over sol1 and sol2\n",
    "    This function should return two Allocation objects\n",
    "    \"\"\"\n",
    "    start = random.choice(range(len(sol1.choices)))\n",
    "    stop = random.choice(range(start, len(sol1.choices)))\n",
    "    \n",
    "    child1 = Allocation(list(sol1.choices))\n",
    "    child1.choices[start:stop] = sol2.choices[start:stop]\n",
    "    \n",
    "    child2 = Allocation(list(sol2.choices))\n",
    "    child2.choices[start:stop] = sol1.choices[start:stop]\n",
    "\n",
    "    return child1, child2\n",
    "\n",
    "\n",
    "def crossover(sol1, sol2, crossover_type):\n",
    "    \"\"\"\n",
    "    Wrapper function for crossover. Returns the children formed by crossing over \n",
    "    sol1 and sol2. \n",
    "    crossover_type is a string specifying which crossover function to use.\n",
    "    \"\"\"\n",
    "    if crossover_type == \"split\":\n",
    "        return crossover_split(sol1, sol2)\n",
    "    elif crossover_type == \"random third\":\n",
    "        return random_third(sol1, sol2)\n",
    "    elif crossover_type == \"ordered\":\n",
    "        return ordered_crossover(sol1, sol2)\n",
    "\n",
    "    \n",
    "    print(\"Crossover type invalid\")\n",
    "    return None "
   ]
  },
  {
   "cell_type": "markdown",
   "metadata": {
    "id": "J_7Se9GGNV5m"
   },
   "source": [
    "Next, we’ll generalize this to create our offspring population. We will use elitism to retain the best Allocations from the current population. Then, we use the crossover wrapper function to fill out the rest of the next generation.\n",
    "\n",
    "Keep in mind that when calling crossover for two parents, the function will return two children. The children population size will be equal to the size of the original population, or the size of the matingPool. \n",
    "\n",
    "Another note to keep in mind is that the top eliteSize members of each population should progress to the next generation without being changed or mutated. When running the genetic Algorithm function, make sure to use an **even** eliteSize, to make calculations easier in the below function. "
   ]
  },
  {
   "cell_type": "code",
   "execution_count": 10,
   "metadata": {
    "id": "uQqiFBZa6zPo"
   },
   "outputs": [],
   "source": [
    "def breedPopulation(matingpool, eliteSize, crossover_type):\n",
    "    \"\"\"\n",
    "    matingpool: list of individuals selected to form the mating pool\n",
    "    eliteSize: number of highest ranked individuals preserved in the next generation\n",
    "    crossover_type: string specifying which crossover function to use\n",
    "    This function returns the new population created by breeding\n",
    "    \"\"\"\n",
    "    children = []\n",
    "    length = len(matingpool) - eliteSize\n",
    "    length = length // 2\n",
    "    pool = random.sample(matingpool, len(matingpool))\n",
    "\n",
    "    for i in range(0,eliteSize):\n",
    "        children.append(matingpool[i])\n",
    "    \n",
    "    for i in range(0, length):\n",
    "        child1, child2 = crossover(pool[i], pool[len(matingpool)-i-1], crossover_type)\n",
    "        children.append(child1)\n",
    "        children.append(child2)\n",
    "    return children"
   ]
  },
  {
   "cell_type": "markdown",
   "metadata": {
    "id": "iQzR2Bapi032"
   },
   "source": [
    "## Mutate\n",
    "Mutation serves an important function in GA, as it helps to avoid local convergence by introducing novel routes that will allow us to explore other parts of the solution space. In this assignment, we shall assume that we mutate a certain fraction of the population, as specified in the variable `mutationRate`.\n",
    "\n",
    "Note that there can be several possible ways to mutate an individual for this problem. You need to decide on your own how to mutate an individual. "
   ]
  },
  {
   "cell_type": "code",
   "execution_count": 11,
   "metadata": {
    "id": "DoAeljwBi1o0"
   },
   "outputs": [],
   "source": [
    "def mutate(individual):\n",
    "    \"\"\"\n",
    "    individual: type Allocation\n",
    "    This function should mutate a single individual and return the mutated individual.\n",
    "    \"\"\"\n",
    "    index = random.randint(0,len(individual.choices)-1)\n",
    "\n",
    "    if individual.choices[index] == 0:\n",
    "        individual.choices[index] = 1\n",
    "    elif individual.choices[index] == 1:\n",
    "        individual.choices[index] = 0\n",
    "\n",
    "    return individual"
   ]
  },
  {
   "cell_type": "markdown",
   "metadata": {
    "id": "-IbfghlyPRlZ"
   },
   "source": [
    "Next, we can extend the mutate function to run through the new population.  \n",
    "Please create a function to run mutation over entire population and return the new population. The top eliteSize members of the previous population should not be mutated. Each member of the population is mutated with probability mutationRate."
   ]
  },
  {
   "cell_type": "code",
   "execution_count": 12,
   "metadata": {
    "id": "6vBFxL0j1R-a"
   },
   "outputs": [],
   "source": [
    "def mutatePopulation(population, mutationRate, eliteSize):\n",
    "    \"\"\"\n",
    "    This function should use the above mutate function to mutate each member of the population. Simply iterate over the \n",
    "    population, and mutate each individual with probability mutationRate. \n",
    "    The top eliteSize members should remain unchanged. \n",
    "    \"\"\"\n",
    "    pop_copy = population.copy()\n",
    "    mutatingPop = pop_copy[eliteSize:]\n",
    "    new_pop = []\n",
    "    \n",
    "    for individual in mutatingPop:\n",
    "        if random.random() <= mutationRate:\n",
    "            new_pop.append(mutate(individual))\n",
    "        else:\n",
    "            new_pop.append(individual)\n",
    "            \n",
    "    mutatedPop = pop_copy[:eliteSize] + new_pop\n",
    "    \n",
    "    return mutatedPop"
   ]
  },
  {
   "cell_type": "markdown",
   "metadata": {
    "id": "BjQqdA4i1YCK"
   },
   "source": [
    "## Repeat\n",
    "We’re almost there. Let’s pull these pieces together to create a function that produces a new generation. First, we rank the Allocations in the current generation using rankPopulation. We then determine our potential parents by running the selection function, which allows us to create the mating pool using the matingPool function. Finally, we create our new generation using the breedPopulation function (passing in crossover_type) and then applying mutation using the mutatePopulation function."
   ]
  },
  {
   "cell_type": "code",
   "execution_count": 14,
   "metadata": {
    "id": "zqmGGZqO1XRA"
   },
   "outputs": [],
   "source": [
    "def nextGeneration(game, currentGen, eliteSize, mutationRate, crossover_type):\n",
    "    \"\"\"\n",
    "    This function takes in the current generation, eliteSize and mutationRate and should return the next generation.\n",
    "    Please use all the above defined functions to do so, some hints are in the above paragraph.\n",
    "    \"\"\"\n",
    "    popRanked = rankPopulation(game, currentGen)\n",
    "    selectionResults = selection(popRanked, eliteSize)\n",
    "    matingpool = matingPool(currentGen, selectionResults)\n",
    "    children = breedPopulation(matingpool, eliteSize, crossover_type)\n",
    "    nextGeneration = mutatePopulation(children, mutationRate, eliteSize)\n",
    "    return nextGeneration"
   ]
  },
  {
   "cell_type": "markdown",
   "metadata": {
    "id": "70wPyy1lPrOI"
   },
   "source": [
    "## Final step: Evolution in motion\n",
    "We finally have all the pieces in place to create our GA! All we need to do is create the initial population, and then we can loop through as many generations as we desire. \n",
    "\n",
    "Of course we also want to see the best Allocation and how much we’ve improved, so we capture the initial fitness, the final fitness, and the best individual. The parameter crossover_type is a string which specifies which crossover function to use. We have the parameter game as a dictionary that is returned by createLargeGame(), and we pass this variable in to other function calls as needed.\n",
    "\n",
    "Before each generation, you can use the fittest individual from the population to evaluate the fitness performance of the model."
   ]
  },
  {
   "cell_type": "code",
   "execution_count": 15,
   "metadata": {
    "id": "xmCesjMh1nXo"
   },
   "outputs": [],
   "source": [
    "def geneticAlgorithm(game, popSize, eliteSize, mutationRate, generations, crossover_type, iterations):\n",
    "    \"\"\"\n",
    "    This function should run the genetic algorithm for the specified number of generations\n",
    "    by following the process outlined  in the \"Approach\" section given earlier in this notebook. \n",
    "    It should print the initial and final fitness.\n",
    "    It should also generate plots showing the fitness with respect to generations.\n",
    "    \"\"\"\n",
    "    highest_fit_list = []\n",
    "    start = datetime.now()\n",
    "    \n",
    "    for it in range(iterations):\n",
    "\n",
    "        currentGen = initialPopulation(game, popSize)\n",
    "\n",
    "        initial_fit = max(rankPopulation(game, currentGen)[:][:][0])\n",
    "        best_individual = initial_fit\n",
    "        best_individual_gen = 0\n",
    "        highest_fit_list = []\n",
    "\n",
    "        for gen in range(generations):\n",
    "\n",
    "            currentGen = nextGeneration(game, currentGen, eliteSize, mutationRate, crossover_type)\n",
    "            highest_fit_list.append(max(rankPopulation(game, currentGen)[:][:][0]))\n",
    "\n",
    "            if max(rankPopulation(game, currentGen)[:][:][0]) > best_individual:\n",
    "                best_individual = max(rankPopulation(game, currentGen)[:][:][0])\n",
    "                best_individual_gen = gen + 1\n",
    "\n",
    "        final_fit = max(rankPopulation(game, currentGen)[:][:][0])\n",
    "\n",
    "        print('Iteration', it + 1, 'Initial Fitness:', initial_fit)\n",
    "        print('Iteration', it + 1, 'Final Fitness:', final_fit)\n",
    "        print('Iteration', it + 1, 'Best Individual has fitness', best_individual,\n",
    "              'from generation', best_individual_gen)\n",
    "    \n",
    "    end = datetime.now()\n",
    "    print(\"Time Elapsed for GA: \" + str(end - start))\n",
    "    \n",
    "    figure, axis = plt.subplots(1,figsize=(10,5))\n",
    "    figure.tight_layout(pad=5.0)\n",
    "\n",
    "    axis.plot(range(generations), highest_fit_list)\n",
    "    axis.set_title('Fitness Across Generations')\n",
    "    axis.set_xlabel('Generation')\n",
    "    axis.set_ylabel('Fitness')\n",
    "\n",
    "    return None"
   ]
  },
  {
   "cell_type": "markdown",
   "metadata": {
    "id": "JXMcv5XC-8aD"
   },
   "source": [
    "## Knapsack Dynamic Programming\n",
    "\n",
    "Dynamic Programming is a very useful and popular way of solving many problems in computer science. The technique makes use of repeated function calling, and creates an array or table to store answers to subproblems of our actual problem. \n",
    "\n",
    "Our DP array will be defined by the following: $dp[i][j]$ represents the maximum knapsack profit for capacity $j$ calculated from the first $i$ items. This means that each value $dp[i][j]$ depends on previous array elements, and we fill in this array from the bottom-up. Each element in this array represents the solution to a smaller, similar Knapsack subproblem. \n",
    "\n",
    "For each item at index $i$ and capacity $j$ there are two options: \n",
    "\n",
    "1. Include the item at index $i$ in the knapsack, as long as its weight is not more than $capacity$. If this happens, we get its profit plus the profit we get from the remaining $capacity$ and remaining items: $dp[i][j] = values[i] + dp[i-1][j-weights[i]]$\n",
    "\n",
    "2. Do not include the item at index $i$. In this case, take whatever profit we get from the sub-array that does not include this item: $dp[i][j] = dp[i-1][j]$\n",
    "\n",
    "It is alright if you do not understand dynamic programming right away, as it is an advanced computer science topic. All you need to understand is that it is a common way of solving Knapsack problems, and can be used to evaluate the effectiveness of our Genetic Algorithm. The code for dynamic programming has been completely written for you. "
   ]
  },
  {
   "cell_type": "code",
   "execution_count": 16,
   "metadata": {
    "id": "O7UiktTh--0l"
   },
   "outputs": [],
   "source": [
    "def knapsackDP(game):\n",
    "    \"\"\"\n",
    "    values : values of the objects\n",
    "    weights: weights of the objects\n",
    "    capacity: capacity of the game \n",
    "    Dynamic Programming for the Knapsack problem. \n",
    "    \"\"\"\n",
    "    values, weights, capacity = game['values'], game['weights'], game['capacity']\n",
    "    capacity = int(capacity)\n",
    "    n = len(values)\n",
    "    start = datetime.now()\n",
    "\n",
    "    dp = [[0 for _ in range(capacity + 1)] for _ in range(n)]\n",
    "\n",
    "    for c in range(capacity + 1):\n",
    "        if weights[0] <= c:\n",
    "            dp[0][c] = values[0]\n",
    "\n",
    "    for i in range(1, n):\n",
    "        for j in range(1, capacity + 1):\n",
    "            profit1, profit2 = 0, 0\n",
    "            if weights[i] <= j:\n",
    "                profit1 = values[i] + dp[i-1][j - int(weights[i])]\n",
    "            profit2 = dp[i-1][j]\n",
    "\n",
    "            dp[i][j] = max(profit1, profit2)\n",
    "    \n",
    "    end = datetime.now()\n",
    "    print(\"Time elapsed for DP: \" + str(end - start))\n",
    "    print(\"Final DP sol: \" + str(dp[n-1][capacity]))\n",
    "    return dp[n-1][capacity]"
   ]
  },
  {
   "cell_type": "markdown",
   "metadata": {
    "id": "_cmcPadybA0J"
   },
   "source": [
    "Pass the game in to the DP function for Knapsack. Run the below cell to see results. "
   ]
  },
  {
   "cell_type": "code",
   "execution_count": 17,
   "metadata": {
    "colab": {
     "base_uri": "https://localhost:8080/"
    },
    "id": "6pZFJWIiTAqW",
    "outputId": "190e7bb8-0d6f-4419-9dac-4f96ef066f47"
   },
   "outputs": [
    {
     "name": "stdout",
     "output_type": "stream",
     "text": [
      "Time elapsed for DP: 0:00:00.198044\n",
      "Final DP sol: 1757.0\n"
     ]
    },
    {
     "data": {
      "text/plain": [
       "1757.0"
      ]
     },
     "execution_count": 17,
     "metadata": {},
     "output_type": "execute_result"
    }
   ],
   "source": [
    "knapsackDP(game)"
   ]
  },
  {
   "cell_type": "markdown",
   "metadata": {
    "id": "hs8M0nV6UkYS"
   },
   "source": [
    "Now run the Genetic Algorithm with the same game. As a reminder, use an **even** eliteSize to make later calculations easier. It may take up to 800 generations for your algorithm to converge to a final value. "
   ]
  },
  {
   "cell_type": "code",
   "execution_count": 18,
   "metadata": {
    "id": "kfOhiQJZdtqG",
    "scrolled": false
   },
   "outputs": [
    {
     "name": "stdout",
     "output_type": "stream",
     "text": [
      "Iteration 1 Initial Fitness: 1166.0\n",
      "Iteration 1 Final Fitness: 1743.0\n",
      "Iteration 1 Best Individual has fitness 1743.0 from generation 760\n",
      "Iteration 2 Initial Fitness: 1174.0\n",
      "Iteration 2 Final Fitness: 1739.0\n",
      "Iteration 2 Best Individual has fitness 1739.0 from generation 702\n",
      "Iteration 3 Initial Fitness: 1206.0\n",
      "Iteration 3 Final Fitness: 1747.0\n",
      "Iteration 3 Best Individual has fitness 1747.0 from generation 553\n",
      "Iteration 4 Initial Fitness: 1174.0\n",
      "Iteration 4 Final Fitness: 1739.0\n",
      "Iteration 4 Best Individual has fitness 1739.0 from generation 534\n",
      "Iteration 5 Initial Fitness: 1182.0\n",
      "Iteration 5 Final Fitness: 1740.0\n",
      "Iteration 5 Best Individual has fitness 1740.0 from generation 793\n",
      "Time Elapsed for GA: 0:39:26.069573\n"
     ]
    },
    {
     "data": {
      "image/png": "[encoded data removed]",
      "text/plain": [
       "<Figure size 720x360 with 1 Axes>"
      ]
     },
     "metadata": {
      "needs_background": "light"
     },
     "output_type": "display_data"
    }
   ],
   "source": [
    "# Split crossover iterations\n",
    "geneticAlgorithm(game=game, popSize=300, eliteSize=20, mutationRate=0.2, generations=800, crossover_type='split',\n",
    "                 iterations=5)"
   ]
  },
  {
   "cell_type": "code",
   "execution_count": 19,
   "metadata": {},
   "outputs": [
    {
     "name": "stdout",
     "output_type": "stream",
     "text": [
      "Iteration 1 Initial Fitness: 1176.0\n",
      "Iteration 1 Final Fitness: 1745.0\n",
      "Iteration 1 Best Individual has fitness 1745.0 from generation 736\n",
      "Iteration 2 Initial Fitness: 1195.0\n",
      "Iteration 2 Final Fitness: 1737.0\n",
      "Iteration 2 Best Individual has fitness 1737.0 from generation 562\n",
      "Iteration 3 Initial Fitness: 1174.0\n",
      "Iteration 3 Final Fitness: 1737.0\n",
      "Iteration 3 Best Individual has fitness 1737.0 from generation 715\n",
      "Iteration 4 Initial Fitness: 1179.0\n",
      "Iteration 4 Final Fitness: 1746.0\n",
      "Iteration 4 Best Individual has fitness 1746.0 from generation 780\n",
      "Iteration 5 Initial Fitness: 1210.0\n",
      "Iteration 5 Final Fitness: 1736.0\n",
      "Iteration 5 Best Individual has fitness 1736.0 from generation 444\n",
      "Time Elapsed for GA: 0:40:17.911996\n"
     ]
    },
    {
     "data": {
      "image/png": "[encoded data removed]",
      "text/plain": [
       "<Figure size 720x360 with 1 Axes>"
      ]
     },
     "metadata": {
      "needs_background": "light"
     },
     "output_type": "display_data"
    }
   ],
   "source": [
    "# Random third crossover iterations\n",
    "geneticAlgorithm(game=game, popSize=300, eliteSize=20, mutationRate=0.2, generations=800, crossover_type='random third',\n",
    "                 iterations=5)"
   ]
  },
  {
   "cell_type": "code",
   "execution_count": 20,
   "metadata": {
    "scrolled": false
   },
   "outputs": [
    {
     "name": "stdout",
     "output_type": "stream",
     "text": [
      "Iteration 1 Initial Fitness: 1203.0\n",
      "Iteration 1 Final Fitness: 1748.0\n",
      "Iteration 1 Best Individual has fitness 1748.0 from generation 724\n",
      "Iteration 2 Initial Fitness: 1220.0\n",
      "Iteration 2 Final Fitness: 1746.0\n",
      "Iteration 2 Best Individual has fitness 1746.0 from generation 792\n",
      "Iteration 3 Initial Fitness: 1190.0\n",
      "Iteration 3 Final Fitness: 1746.0\n",
      "Iteration 3 Best Individual has fitness 1746.0 from generation 744\n",
      "Iteration 4 Initial Fitness: 1195.0\n",
      "Iteration 4 Final Fitness: 1745.0\n",
      "Iteration 4 Best Individual has fitness 1745.0 from generation 798\n",
      "Iteration 5 Initial Fitness: 1182.0\n",
      "Iteration 5 Final Fitness: 1744.0\n",
      "Iteration 5 Best Individual has fitness 1744.0 from generation 795\n",
      "Time Elapsed for GA: 0:39:28.097545\n"
     ]
    },
    {
     "data": {
      "image/png": "[encoded data removed]",
      "text/plain": [
       "<Figure size 720x360 with 1 Axes>"
      ]
     },
     "metadata": {
      "needs_background": "light"
     },
     "output_type": "display_data"
    }
   ],
   "source": [
    "# Ordered crossover iterations\n",
    "geneticAlgorithm(game=game, popSize=300, eliteSize=20, mutationRate=0.2, generations=800, crossover_type='ordered',\n",
    "                 iterations=5)"
   ]
  },
  {
   "cell_type": "markdown",
   "metadata": {
    "id": "IBXq6j6Gnp1j"
   },
   "source": [
    "# Section 2: Traveling Salesman Problem\n",
    "In this section of the assignment, we’ll be using a Genetic Algorithm to find a solution to the traveling salesman problem (TSP). The TSP is described as follows:\n",
    "“Given a list of cities and the distances between each pair of cities, what is the shortest possible route that visits each city and returns to the origin city?”\n",
    "![picture](https://drive.google.com/uc?export=view&id=1wRUX0I803AvXbbkWiD1r4_MKuE3mBQdr)\n",
    "Illustration of a potential solution to the Traveling Salesman Problem."
   ]
  },
  {
   "cell_type": "markdown",
   "metadata": {
    "id": "43cSQSQvnp1r"
   },
   "source": [
    "Given this, there are two important rules to keep in mind:\n",
    "- Each city needs to be visited exactly one time\n",
    "- We must return to the starting city, so our total distance needs to be calculated accordingly  \n",
    "## Approach:  \n",
    "Let’s start with a few definitions, rephrased in the context of the TSP:\n",
    "- Gene: a city (represented as (x, y) coordinates)\n",
    "- Individual (aka “chromosome”): a single route satisfying the conditions above\n",
    "- Population: a collection of possible routes (i.e., collection of individuals)\n",
    "- Parents: two routes that are combined to create a new route\n",
    "- Mating pool: a collection of parents that are used to create our next population (thus creating the next generation of routes)\n",
    "- Fitness: a function that tells us how good each route is (in our case, how short the distance is)\n",
    "- Mutation: a way to introduce variation in our population by randomly swapping two cities in a route\n",
    "- Elitism: a way to carry the best individuals into the next generation    \n",
    "  \n",
    "Our GA will proceed in the following steps:\n",
    "- 1. Create the population\n",
    "- 2. Determine fitness\n",
    "- 3. Select the mating pool\n",
    "- 4. Breed\n",
    "- 5. Mutate\n",
    "- 6. Repeat  \n",
    "Now, let’s see this in action."
   ]
  },
  {
   "cell_type": "markdown",
   "metadata": {
    "id": "lVjztTo9np1s"
   },
   "source": [
    "## Create necessary classes and functions"
   ]
  },
  {
   "cell_type": "markdown",
   "metadata": {
    "id": "vwQgwHt5np1t"
   },
   "source": [
    "Create two classes: City and Fitness  \n",
    "We first create a City class that will allow us to create and handle our cities. These are simply our (x, y) coordinates. Within the City class, we add a distance calculation (making use of the Pythagorean theorem) in line 6 and a cleaner way to output the cities as coordinates with `__repr __`."
   ]
  },
  {
   "cell_type": "markdown",
   "metadata": {
    "id": "xDXaAhoSnp1t"
   },
   "source": [
    "Create class to handle \"cities\""
   ]
  },
  {
   "cell_type": "code",
   "execution_count": 2,
   "metadata": {
    "id": "K8bCkeranp1u"
   },
   "outputs": [],
   "source": [
    "import numpy as np, random, operator, pandas as pd, matplotlib.pyplot as plt"
   ]
  },
  {
   "cell_type": "code",
   "execution_count": 22,
   "metadata": {
    "id": "4gLet7tPnp1u"
   },
   "outputs": [],
   "source": [
    "class City:\n",
    "    def __init__(self, y, x):\n",
    "        self.x = x\n",
    "        self.y = y\n",
    "    \n",
    "    def distance(self, city):\n",
    "        xDis = abs(self.x - city.x)\n",
    "        yDis = abs(self.y - city.y)\n",
    "        distance = np.sqrt((xDis ** 2) + (yDis ** 2))\n",
    "        return distance\n",
    "    \n",
    "    def __repr__(self):\n",
    "        return \"(\" + str(self.x) + \",\" + str(self.y) + \")\""
   ]
  },
  {
   "cell_type": "markdown",
   "metadata": {
    "id": "X_t6nzHOnp1v"
   },
   "source": [
    "We’ll also create a Fitness class. In our case, we’ll treat the fitness as the inverse of the route distance. We want to minimize route distance, so a larger fitness score is better. Based on Rule #2, we need to start and end at the same place, so this extra calculation is accounted for in line 13  \n",
    "`(if i + 1 < len(self.route))`  \n",
    "of the distance calculation."
   ]
  },
  {
   "cell_type": "code",
   "execution_count": 23,
   "metadata": {
    "id": "-ExtwMD_np1v"
   },
   "outputs": [],
   "source": [
    "class Fitness:\n",
    "    def __init__(self, route):\n",
    "        self.route = route\n",
    "        self.distance = 0\n",
    "        self.fitness= 0.0\n",
    "    \n",
    "    def routeDistance(self):\n",
    "        if self.distance ==0:\n",
    "            pathDistance = 0\n",
    "            for i in range(0, len(self.route)):\n",
    "                fromCity = self.route[i]\n",
    "                toCity = None\n",
    "                if i + 1 < len(self.route):\n",
    "                    toCity = self.route[i + 1]\n",
    "                else:\n",
    "                    toCity = self.route[0]\n",
    "                pathDistance += fromCity.distance(toCity)\n",
    "            self.distance = pathDistance\n",
    "        return self.distance\n",
    "    \n",
    "    def routeFitness(self):\n",
    "        if self.fitness == 0:\n",
    "            self.fitness = 1 / float(self.routeDistance())\n",
    "        return self.fitness"
   ]
  },
  {
   "cell_type": "markdown",
   "metadata": {
    "id": "goPiNnxOnp1w"
   },
   "source": [
    "## Create our initial population"
   ]
  },
  {
   "cell_type": "markdown",
   "metadata": {
    "id": "RjfH8VLdnp1w"
   },
   "source": [
    "Route generator.  \n",
    "We now can make our initial population (aka first generation). To do so, we need a way to create a function that produces routes that satisfy our conditions (Note: we’ll create our list of cities when we actually run the GA at the end of the tutorial). To create an individual, we randomly select the order in which we visit each city:"
   ]
  },
  {
   "cell_type": "code",
   "execution_count": 24,
   "metadata": {
    "id": "qgm0rIb-np1w"
   },
   "outputs": [],
   "source": [
    "def createRoute(cityList):\n",
    "    route = random.sample(cityList, len(cityList))\n",
    "    return route"
   ]
  },
  {
   "cell_type": "markdown",
   "metadata": {
    "id": "DODvp14Znp1x"
   },
   "source": [
    "Create first \"population\" (list of routes)  \n",
    "This produces one individual, but we want a full population, so let’s do that in our next function. This is as simple as looping through the createRoute function until we have as many routes as we want for our population."
   ]
  },
  {
   "cell_type": "code",
   "execution_count": 25,
   "metadata": {
    "id": "5zP__VuQnp1x"
   },
   "outputs": [],
   "source": [
    "def initialPopulation(popSize, cityList):\n",
    "    population = []\n",
    "\n",
    "    for i in range(0, popSize):\n",
    "        population.append(createRoute(cityList))\n",
    "    return population"
   ]
  },
  {
   "cell_type": "markdown",
   "metadata": {
    "id": "sLHi7tTJnp1x"
   },
   "source": [
    "Note: we only have to use these functions to create the initial population. Subsequent generations will be produced through breeding and mutation."
   ]
  },
  {
   "cell_type": "markdown",
   "metadata": {
    "id": "KbkQ58nBnp1y"
   },
   "source": [
    "## Create the genetic algorithm - Determine Fitness"
   ]
  },
  {
   "cell_type": "markdown",
   "metadata": {
    "id": "c7p394nwnp1y"
   },
   "source": [
    "Rank individuals  \n",
    "Next, the evolutionary fun begins. To simulate our “survival of the fittest”, we can make use of Fitness to rank each individual in the population. Our output will be an ordered list with the route IDs and each associated fitness score."
   ]
  },
  {
   "cell_type": "code",
   "execution_count": 26,
   "metadata": {
    "id": "BmfnWZRQnp1y"
   },
   "outputs": [],
   "source": [
    "def rankRoutes(population):\n",
    "    fitnessResults = {}\n",
    "    for i in range(0,len(population)):\n",
    "        fitnessResults[i] = Fitness(population[i]).routeFitness()\n",
    "    return sorted(fitnessResults.items(), key = operator.itemgetter(1), reverse = True)"
   ]
  },
  {
   "cell_type": "markdown",
   "metadata": {
    "id": "zioKQv6tnp1z"
   },
   "source": [
    "## Select the mating pool\n",
    "There are a few options for how to select the parents that will be used to create the next generation. The most common approaches are either fitness proportionate selection (aka “roulette wheel selection”) or tournament selection:\n",
    "- Fitness proportionate selection (the version implemented below): The fitness of each individual relative to the population is used to assign a probability of selection. Think of this as the fitness-weighted probability of being selected.\n",
    "- Tournament selection: A set number of individuals are randomly selected from the population and the one with the highest fitness in the group is chosen as the first parent. This is repeated to chose the second parent.  \n",
    "\n",
    "Another design feature to consider is the use of elitism. With elitism, the best performing individuals from the population will automatically carry over to the next generation, ensuring that the most successful individuals persist.  \n",
    "For the purpose of clarity, we’ll create the mating pool in two steps. First, we’ll use the output from rankRoutes to determine which routes to select in our selection function. In lines 3–5, we set up the roulette wheel by calculating a relative fitness weight for each individual. In line 9, we compare a randomly drawn number to these weights to select our mating pool. We’ll also want to hold on to our best routes, so we introduce elitism in line 7. Ultimately, the selection function returns a list of route IDs, which we can use to create the mating pool in the matingPool function."
   ]
  },
  {
   "cell_type": "code",
   "execution_count": 27,
   "metadata": {
    "id": "aOl0v-q_np10"
   },
   "outputs": [],
   "source": [
    "def selection(popRanked, eliteSize):\n",
    "    selectionResults = []\n",
    "    df = pd.DataFrame(np.array(popRanked), columns=[\"Index\",\"Fitness\"])\n",
    "    df['cum_sum'] = df.Fitness.cumsum()\n",
    "    df['cum_perc'] = 100*df.cum_sum/df.Fitness.sum()\n",
    "    \n",
    "    for i in range(0, eliteSize):\n",
    "        selectionResults.append(popRanked[i][0])\n",
    "    for i in range(0, len(popRanked) - eliteSize):\n",
    "        pick = 100*random.random()\n",
    "        for i in range(0, len(popRanked)):\n",
    "            if pick <= df.iat[i,3]:\n",
    "                selectionResults.append(popRanked[i][0])\n",
    "                break\n",
    "    return selectionResults"
   ]
  },
  {
   "cell_type": "markdown",
   "metadata": {
    "id": "N0L4EUmZnp10"
   },
   "source": [
    "Now that we have the IDs of the routes that will make up our mating pool from the selection function, we can create the mating pool. We’re simply extracting the selected individuals from our population."
   ]
  },
  {
   "cell_type": "code",
   "execution_count": 28,
   "metadata": {
    "id": "CTAKhDIjnp11"
   },
   "outputs": [],
   "source": [
    "def matingPool(population, selectionResults):\n",
    "    matingpool = []\n",
    "    for i in range(0, len(selectionResults)):\n",
    "        index = selectionResults[i]\n",
    "        matingpool.append(population[index])\n",
    "    return matingpool"
   ]
  },
  {
   "cell_type": "markdown",
   "metadata": {
    "id": "hBS4jo8xnp11"
   },
   "source": [
    "## Breed\n",
    "With our mating pool created, we can create the next generation in a process called crossover (aka “breeding”). If our individuals were strings of 0s and 1s and our two rules didn’t apply (e.g., Knapsack problem, or deciding whether or not to include a stock in a portfolio), we could simply pick a crossover point and splice the two strings together to produce an offspring.  \n",
    "However, the TSP is unique in that we need to include all locations exactly one time. To abide by this rule, we can use a special breeding function called ordered crossover. In ordered crossover, we randomly select a subset of the first parent string (see line 12 in breed function below) and then fill the remainder of the route with the genes from the second parent in the order in which they appear, without duplicating any genes in the selected subset from the first parent (see line 15 in breed function below).\n",
    "![image.png](attachment:image.png)"
   ]
  },
  {
   "cell_type": "code",
   "execution_count": 29,
   "metadata": {
    "id": "A0GyaS-qnp12"
   },
   "outputs": [],
   "source": [
    "def breed(parent1, parent2):\n",
    "    \"\"\"\n",
    "    This function should breed both parents (routes) and return a child route according to the ordered crossover algorithm  \n",
    "    mentioned above. Please fill in the code to do so.\n",
    "    \"\"\"\n",
    "    start = random.randint(0, len(parent1))\n",
    "    stop = random.randint(start, len(parent1))\n",
    "    unique_cities = list(parent2)\n",
    "    \n",
    "    for x in parent1[start:stop]:\n",
    "        if x in unique_cities:\n",
    "            unique_cities.remove(x)\n",
    "\n",
    "    child = unique_cities\n",
    "    child[start:start] = parent1[start:stop]\n",
    "        \n",
    "    return child"
   ]
  },
  {
   "cell_type": "markdown",
   "metadata": {
    "id": "hn9ao7H8np12"
   },
   "source": [
    "Next, we’ll generalize this to create our offspring population. In line 5, we use elitism to retain the best routes from the current population. Then, in line 8, we use the breed function to fill out the rest of the next generation."
   ]
  },
  {
   "cell_type": "code",
   "execution_count": 30,
   "metadata": {
    "id": "vOoO-Drfnp13"
   },
   "outputs": [],
   "source": [
    "def breedPopulation(matingpool, eliteSize):\n",
    "    \"\"\"\n",
    "    This function should return the offspring population from the current population using the breed function. It should \n",
    "    retain the eliteSize best routes from the current population. Then it should use the breed function to mate\n",
    "    members of the population, to fill out the rest of the next generation. You may decide how to choose mates for individuals.\n",
    "    \"\"\"\n",
    "    \n",
    "    children_temp = []\n",
    "    elites = matingpool[:eliteSize]\n",
    "    parents = matingpool[eliteSize:]\n",
    "    \n",
    "    for ind in range(len(elites)):\n",
    "        children_temp.append(elites[ind])\n",
    "    \n",
    "    for ind in range(len(parents)):\n",
    "        children_temp.append(breed(parents[ind], parents[len(parents)-ind-1]))\n",
    "    \n",
    "    children = children_temp\n",
    "    \n",
    "    return children"
   ]
  },
  {
   "cell_type": "markdown",
   "metadata": {
    "id": "MhXwfzDHnp13"
   },
   "source": [
    "## Mutate\n",
    "Mutation serves an important function in GA, as it helps to avoid local convergence by introducing novel routes that will allow us to explore other parts of the solution space. Similar to crossover, the TSP has a special consideration when it comes to mutation. \n",
    "\n",
    "Since we need to abide by our rules, we can’t drop cities, and we can use swap mutation. This means that, with specified low probability, two cities will swap places in our route. We’ll do this for one individual in our mutate function. Each individual in the population is mutated, and thus called with mutate(), with probability mutationRate."
   ]
  },
  {
   "cell_type": "code",
   "execution_count": 31,
   "metadata": {
    "id": "S5OvY2D4np14"
   },
   "outputs": [],
   "source": [
    "def mutate(individual, mutationRate):\n",
    "    \"\"\"\n",
    "    This function should take in an individual (route) and return a mutated individual. Assume mutationRate is a probability\n",
    "    between 0 and 1. Use the swap mutation described above to mutate the individual according to the mutationRate. Iterate \n",
    "    through each of the cities and swap it with another city according to the given probability.\n",
    "    \"\"\"\n",
    "    \n",
    "    new_individual = list(individual)\n",
    "    \n",
    "    for num in range(len(individual)):\n",
    "        \n",
    "        choices_list = list(individual)\n",
    "        choices_list.remove(individual[num])\n",
    "        rand = random.randint(0, len(choices_list) - 1)\n",
    "        \n",
    "        if random.random() < mutationRate:\n",
    "            new_individual[num], new_individual[rand] = new_individual[rand], new_individual[num]\n",
    "            \n",
    "    return new_individual"
   ]
  },
  {
   "cell_type": "markdown",
   "metadata": {
    "id": "u5Ziu2n4np14"
   },
   "source": [
    "Next, we can extend the mutate function to run through the new population.  \n",
    "Please create a function to run mutation over entire population and return the new population. The top eliteSize members of the previous population should not be mutated. Each member of the population is mutated with probability mutationRate."
   ]
  },
  {
   "cell_type": "code",
   "execution_count": 67,
   "metadata": {
    "id": "LwzXe2cxnp15"
   },
   "outputs": [],
   "source": [
    "def mutatePopulation(population, mutationRate, eliteSize):\n",
    "    \"\"\"\n",
    "    This function should use the above mutate function to mutate each member of the population. Simply iterate over the \n",
    "    population and mutate each individual using the mutationRate.\n",
    "    \"\"\"\n",
    "    pop_copy = population.copy()\n",
    "    mutatingPop = pop_copy[eliteSize:]\n",
    "    new_pop = []\n",
    "    \n",
    "    for individual in mutatingPop:\n",
    "        if random.random() <= mutationRate:\n",
    "            new_pop.append(mutate(individual, mutationRate))\n",
    "        else:\n",
    "            new_pop.append(individual)\n",
    "            \n",
    "    mutatedPop = pop_copy[:eliteSize] + new_pop\n",
    "    \n",
    "    return mutatedPop"
   ]
  },
  {
   "cell_type": "markdown",
   "metadata": {
    "id": "zQJqNS1cnp15"
   },
   "source": [
    "## Repeat\n",
    "We’re almost there. Let’s pull these pieces together to create a function that produces a new generation. First, we rank the routes in the current generation using rankRoutes. We then determine our potential parents by running the selection function, which allows us to create the mating pool using the matingPool function. Finally, we then create our new generation using the breedPopulation function and then applying mutation using the mutatePopulation function."
   ]
  },
  {
   "cell_type": "code",
   "execution_count": 33,
   "metadata": {
    "id": "BxsiJKU0np15"
   },
   "outputs": [],
   "source": [
    "def nextGeneration(currentGen, eliteSize, mutationRate):\n",
    "    \"\"\"\n",
    "    This function takes in the current generation, eliteSize and mutationRate and should return the next generation.\n",
    "    Please use all the above defined functions to do so, some hints are in the above paragraph.\n",
    "    \"\"\"\n",
    "    \n",
    "    popRanked = rankRoutes(currentGen)\n",
    "    selectionResults = selection(popRanked, eliteSize)\n",
    "    matingpool = matingPool(currentGen, selectionResults)\n",
    "    children = breedPopulation(matingpool, eliteSize)\n",
    "    nextGeneration = mutatePopulation(children, mutationRate, eliteSize)\n",
    "    return nextGeneration"
   ]
  },
  {
   "cell_type": "markdown",
   "metadata": {
    "id": "ZwDlXro5np16"
   },
   "source": [
    "## Final step: Evolution in motion\n",
    "We finally have all the pieces in place to create our GA! All we need to do is create the initial population, and then we can loop through as many generations as we desire. Of course we also want to see the best route and how much we’ve improved, so we capture the initial distance in line 3 (remember, distance is the inverse of the fitness), the final distance in line 8, and the best route in line 9.  "
   ]
  },
  {
   "cell_type": "code",
   "execution_count": 34,
   "metadata": {
    "id": "h3U_c7lqb-x6"
   },
   "outputs": [],
   "source": [
    "def geneticAlgorithm(population, popSize, eliteSize, mutationRate, generations):\n",
    "    pop = initialPopulation(popSize, population)\n",
    "    print(\"Initial distance: \" + str(1 / rankRoutes(pop)[0][1]))\n",
    "    \n",
    "    for i in range(0, generations):\n",
    "        pop = nextGeneration(pop, eliteSize, mutationRate)\n",
    "    \n",
    "    print(\"Final distance: \" + str(1 / rankRoutes(pop)[0][1]))\n",
    "    bestRouteIndex = rankRoutes(pop)[0][0]\n",
    "    bestRoute = pop[bestRouteIndex]\n",
    "    return bestRoute"
   ]
  },
  {
   "cell_type": "markdown",
   "metadata": {
    "id": "k0E1VD-fnp16"
   },
   "source": [
    "## Running the genetic algorithm"
   ]
  },
  {
   "cell_type": "markdown",
   "metadata": {
    "id": "RypKthO9np17"
   },
   "source": [
    "With everything in place, solving the TSP is as easy as two steps:  \n",
    "First, we need a list of cities to travel between. For this demonstration, we’ll use the list of 20 biggest cities of United States (a seemingly small number of cities, but brute force would have to test over 300 sextillion(10^21) routes!):"
   ]
  },
  {
   "cell_type": "markdown",
   "metadata": {
    "id": "FH4cR7Gunp17"
   },
   "source": [
    "## Create the City list\n",
    "You need to put all the 20 cities as city objects in the cityList array. We will use the last column Coordinates to calculate the distance between all the cities. And for convenience we will multiply all the coordinates by 100. For example, for New York, it would be  \n",
    "NewYork= City( int(40.71 * 100), int( -74.00 * 100))  \n",
    "And then you can put cityList.append(NewYork)"
   ]
  },
  {
   "cell_type": "markdown",
   "metadata": {
    "id": "Bvh_Zm7Inp18"
   },
   "source": [
    "Here is the sample code of calculating the path to travel top 5 cities of U.S."
   ]
  },
  {
   "cell_type": "code",
   "execution_count": 70,
   "metadata": {
    "id": "eyL2IDE9np18"
   },
   "outputs": [],
   "source": [
    "cityList = []\n",
    "NewYork= City( int(40.71 * 100), int( -74.00 * 100)) \n",
    "LA= City(3405,-11824) \n",
    "Chicago=City(4187,-8762)\n",
    "Houston=City(2976,-9536)\n",
    "Philly=City(3995,-7516)\n",
    "cityList.append(NewYork)\n",
    "cityList.append(LA)\n",
    "cityList.append(Chicago)\n",
    "cityList.append(Houston)\n",
    "cityList.append(Philly)"
   ]
  },
  {
   "cell_type": "markdown",
   "metadata": {
    "id": "0oE8AmDVnp18"
   },
   "source": [
    "Then, running the genetic algorithm is one simple line of code. This is where art meets science; you should see which assumptions work best for you. In this example, we have 100 individuals in each generation, keep 5 elite individuals, use a 1% mutation rate for a given gene, and run through 500 generations:"
   ]
  },
  {
   "cell_type": "code",
   "execution_count": 71,
   "metadata": {
    "colab": {
     "base_uri": "https://localhost:8080/"
    },
    "id": "jtIUFXqpnp18",
    "outputId": "0b123a44-b749-4cd9-acdd-9989fbe2e1b5",
    "scrolled": true
   },
   "outputs": [
    {
     "name": "stdout",
     "output_type": "stream",
     "text": [
      "Initial distance: 9256.22933537916\n",
      "Final distance: 9256.22933537916\n"
     ]
    },
    {
     "data": {
      "text/plain": [
       "[(-8762,4187), (-7400,4071), (-7516,3995), (-9536,2976), (-11824,3405)]"
      ]
     },
     "execution_count": 71,
     "metadata": {},
     "output_type": "execute_result"
    }
   ],
   "source": [
    "geneticAlgorithm(population=cityList, popSize=100, eliteSize=5, mutationRate=0.01, generations=500)"
   ]
  },
  {
   "cell_type": "markdown",
   "metadata": {
    "id": "E7km8LRMnp1-"
   },
   "source": [
    "Therefore, the ideal path to travel is New York - Chicago - LA - Houston - Philly -New York\n",
    "Or Chicago - LA - Houston - Philly - New York - Chicago etc.   \n",
    "(They are the same, just the starting point is random and could be different)"
   ]
  },
  {
   "cell_type": "markdown",
   "metadata": {
    "id": "gWm7xnj6np1-"
   },
   "source": [
    "## Visualize the result path"
   ]
  },
  {
   "cell_type": "code",
   "execution_count": 37,
   "metadata": {
    "id": "SxViJnzFnp1_",
    "outputId": "d6311d1d-e8a7-4e7a-f90e-cf226e1a1f26"
   },
   "outputs": [
    {
     "data": {
      "image/png": "[encoded data removed]",
      "text/plain": [
       "<Figure size 432x288 with 1 Axes>"
      ]
     },
     "metadata": {
      "needs_background": "light"
     },
     "output_type": "display_data"
    }
   ],
   "source": [
    "#Plotting\n",
    "fig, ax1 = plt.subplots(ncols=1)\n",
    "y=[4071,4187,3405,2976,3995]\n",
    "x=[-7400,-8762,-11824,-9536,-7516]\n",
    "n=['New York','Chicago',\"LA\",\"Houston\",\"Philly\"]\n",
    "ax1.plot(x, y, marker=\"o\", markerfacecolor=\"r\")\n",
    "for i, txt in enumerate(n):\n",
    "    ax1.annotate(txt, (x[i], y[i]))"
   ]
  },
  {
   "cell_type": "markdown",
   "metadata": {
    "id": "UnPgqxbTnp1_"
   },
   "source": [
    "# Your Turn\n",
    "Now write the code to calculate the ideal path for traveling the top 20 cities of U.S."
   ]
  },
  {
   "cell_type": "code",
   "execution_count": 72,
   "metadata": {
    "id": "IFa4Inqinp2A"
   },
   "outputs": [],
   "source": [
    "cityList = []\n",
    "\n",
    "New_York = City(4071, -7400)\n",
    "Los_Angeles = City(3405,-11824) \n",
    "Chicago = City(4187,-8762)\n",
    "Houston = City(2976,-9537)\n",
    "Philadelphia = City(3995,-7517)\n",
    "Phoenix = City(3345, -11207)\n",
    "San_Antonio = City(2942, -9849)\n",
    "San_Diego = City(3271, -11716)\n",
    "Dallas = City(3278, -9680)\n",
    "San_Jose = City(3734, -12189)\n",
    "Austin = City(3027, -9774)\n",
    "Indianapolis = City(3977, -8616)\n",
    "Jacksonville = City(3033, -8166)\n",
    "San_Francisco = City(3777, -12242)\n",
    "Columbus = City(3996, -8299)\n",
    "Charlotte = City(3523, -8084)\n",
    "Fort_Worth = City(3276, -9733)\n",
    "Detroit = City(4233, -8305)\n",
    "El_Paso = City(3176, -10649)\n",
    "Memphis = City(3515, -9005)\n",
    "\n",
    "cityList.append(New_York)\n",
    "cityList.append(Los_Angeles)\n",
    "cityList.append(Chicago)\n",
    "cityList.append(Houston)\n",
    "cityList.append(Philadelphia)\n",
    "cityList.append(Phoenix)\n",
    "cityList.append(San_Antonio)\n",
    "cityList.append(San_Diego)\n",
    "cityList.append(Dallas)\n",
    "cityList.append(San_Jose)\n",
    "cityList.append(Austin)\n",
    "cityList.append(Indianapolis)\n",
    "cityList.append(Jacksonville)\n",
    "cityList.append(San_Francisco)\n",
    "cityList.append(Columbus)\n",
    "cityList.append(Charlotte)\n",
    "cityList.append(Fort_Worth)\n",
    "cityList.append(Detroit)\n",
    "cityList.append(El_Paso)\n",
    "cityList.append(Memphis)"
   ]
  },
  {
   "cell_type": "code",
   "execution_count": 73,
   "metadata": {
    "id": "NEY2Ws90np2A"
   },
   "outputs": [
    {
     "name": "stdout",
     "output_type": "stream",
     "text": [
      "Initial distance: 27394.699735499864\n",
      "Final distance: 11771.828687193754\n"
     ]
    },
    {
     "data": {
      "text/plain": [
       "[(-8299,3996),\n",
       " (-8305,4233),\n",
       " (-7400,4071),\n",
       " (-7517,3995),\n",
       " (-8084,3523),\n",
       " (-8166,3033),\n",
       " (-9680,3278),\n",
       " (-9733,3276),\n",
       " (-10649,3176),\n",
       " (-11207,3345),\n",
       " (-12242,3777),\n",
       " (-12189,3734),\n",
       " (-11824,3405),\n",
       " (-11716,3271),\n",
       " (-9849,2942),\n",
       " (-9774,3027),\n",
       " (-9537,2976),\n",
       " (-9005,3515),\n",
       " (-8762,4187),\n",
       " (-8616,3977)]"
      ]
     },
     "execution_count": 73,
     "metadata": {},
     "output_type": "execute_result"
    }
   ],
   "source": [
    "geneticAlgorithm(population=cityList, popSize=100, eliteSize=10, mutationRate=0.01, generations=500)"
   ]
  },
  {
   "cell_type": "code",
   "execution_count": 4,
   "metadata": {
    "id": "1ltG4HpNnp2B"
   },
   "outputs": [
    {
     "data": {
      "image/png": "[encoded data removed]",
      "text/plain": [
       "<Figure size 864x864 with 1 Axes>"
      ]
     },
     "metadata": {
      "needs_background": "light"
     },
     "output_type": "display_data"
    }
   ],
   "source": [
    "#Plotting\n",
    "fig, ax1 = plt.subplots(ncols=1, figsize=(12,12))\n",
    "y=[3996,4233,4071,3995,3523,3033,3278,3276,3176,\n",
    "   3345,3777,3743,3405,3271,2942,3027,2976,3515,\n",
    "   4187,3977]\n",
    "x=[-8299,-8305,-7400,-7517,-8084,-8166,-9680,-9733,\n",
    "   -10649,-11207,-12242,-12189,-11824,-11716,-9849,\n",
    "   -9774,-9537,-9005,-8762,-8616]\n",
    "n=['Columbus','Detroit','New York','Philadelphia',\n",
    "   'Charlotte','Jacksonville','Dallas','Fort Worth',\n",
    "   'El Paso','Phoenix','San Francisco','San Jose',\n",
    "   'Los Angeles','San Diego','San Antonio','Austin',\n",
    "   'Houston','Memphis','Chicago','Indianapolis']\n",
    "ax1.plot(x, y, marker=\"o\", markerfacecolor=\"r\")\n",
    "for i, txt in enumerate(n):\n",
    "    ax1.annotate(txt, (x[i], y[i]))"
   ]
  },
  {
   "cell_type": "markdown",
   "metadata": {
    "id": "ZPq0raYAnp2B"
   },
   "source": [
    "# Question: What is the optimal path of cities your GA gave you?"
   ]
  },
  {
   "cell_type": "markdown",
   "metadata": {
    "id": "n2RSGBvKnp2B"
   },
   "source": [
    "Answer: Columbus - Detroit - New York - Philadelphia - Charlotte - Jacksonville - Dallas - Fort Worth - El Paso - Phoenix - San Francisco - San Jose - Los Angeles - San Diego - San Antonio - Austin - Houston - Memphis - Chicago - Indianapolis"
   ]
  },
  {
   "cell_type": "markdown",
   "metadata": {
    "id": "7KoHbWEBnp2B"
   },
   "source": [
    "## Plot the progress"
   ]
  },
  {
   "cell_type": "markdown",
   "metadata": {
    "id": "zFpdWe9Bnp2B"
   },
   "source": [
    "It’s great to know our starting and ending distance and the proposed route, but we would be remiss not to see how our distance improved over time. With a simple tweak to our geneticAlgorithm function, we can store the shortest distance from each generation in a progress list and then plot the results."
   ]
  },
  {
   "cell_type": "code",
   "execution_count": 41,
   "metadata": {
    "id": "o1T3ZR2vnp2C"
   },
   "outputs": [],
   "source": [
    "def geneticAlgorithmPlot(population, popSize, eliteSize, mutationRate, generations):\n",
    "    pop = initialPopulation(popSize, population)\n",
    "    progress = []\n",
    "    fitness = []\n",
    "    progress.append(1 / rankRoutes(pop)[0][1])\n",
    "    fitness.append(rankRoutes(pop)[0][1])\n",
    "    \n",
    "    for i in range(0, generations):\n",
    "        pop = nextGeneration(pop, eliteSize, mutationRate)\n",
    "        progress.append(1 / rankRoutes(pop)[0][1])\n",
    "        fitness.append(rankRoutes(pop)[0][1])\n",
    "    \n",
    "    figure, axis = plt.subplots(2, figsize=(10,10))\n",
    "    figure.tight_layout(pad=5.0)\n",
    "    \n",
    "    axis[0].plot(progress)\n",
    "    axis[0].set_title('Distance over generations')\n",
    "    axis[0].set_ylabel('Distance')\n",
    "    axis[0].set_xlabel('Generation')\n",
    "    \n",
    "    axis[1].plot(fitness)\n",
    "    axis[1].set_title('Fitness over generations')\n",
    "    axis[1].set_ylabel('Fitness')\n",
    "    axis[1].set_xlabel('Generation')"
   ]
  },
  {
   "cell_type": "markdown",
   "metadata": {
    "id": "Mt49UWQonp2H"
   },
   "source": [
    "Run the GA in the same way as before, but now using the newly created geneticAlgorithmPlot function:"
   ]
  },
  {
   "cell_type": "code",
   "execution_count": 42,
   "metadata": {
    "id": "wPPasGhfnp2I",
    "outputId": "4f575235-d1e7-498e-9fc2-4c13eb6ba52f",
    "scrolled": false
   },
   "outputs": [
    {
     "data": {
      "image/png": "[encoded data removed]",
      "text/plain": [
       "<Figure size 720x720 with 2 Axes>"
      ]
     },
     "metadata": {
      "needs_background": "light"
     },
     "output_type": "display_data"
    }
   ],
   "source": [
    "geneticAlgorithmPlot(population=cityList, popSize=100, eliteSize=20, mutationRate=0.01, generations=500)"
   ]
  },
  {
   "cell_type": "markdown",
   "metadata": {
    "id": "qd_0NoYC1KBN"
   },
   "source": [
    "## Report and Submission Guidelines\n",
    "\n",
    "The purpose of this assignment is to develop a better understanding of how Genetic Algorithms can be applied in different problem settings.  \n",
    "\n",
    "You need to implement a total of **3** crossover functions and **1** fitness function, as well as **1** mutation function. As for mutation, you can choose any mutation rate or even a different mutation strategy which gives you the best testing performance.\n",
    "\n",
    "The best way to analyze an algorithm is to run many iterations, and record the results. For this assignment, each time you call the geneticAlgorithm function, you use a certain crossover function. There are 3 crossover functions, which means there are 3 possible combinations. We want to compare the performance of these crossover functions.\n",
    "\n",
    "For each combination type of crossover function, you should run the geneticAlgorithm function atleast 5 times. Then, take the average final fitness of these 5 iterations for this specific combination, and report these in a table. \n",
    "\n",
    "The final report should contain an fitness table, that has the average final fitness values for each combination of the genetic algorithm. Please also mention the value of the Dynamic Programming solution, and compare it to the Genetic Algorithm solution. Additionally, for each type of crossover, please produce one plot (pick one of the 5 iterations) that plots fitness versus number of generations for the data. \n",
    "\n",
    "For the Traveling Salesman portion, produce a plot that graphs fitness versus number of generations, report the single best individual route (cityList), and plot the final route in a picture. Ie you should plot each city as a point and draw lines between consecutive cities in the final route.\n",
    "\n",
    "To summarize, you need to write the following in your report:\n",
    "- Fitnesses table as specified above\n",
    "- Value of the Dynamic Programming solution\n",
    "- Fitness plots with respect to generation for all 3 combinations\n",
    "- Description of your mutation function as well as crossover functions\n",
    "- Brief (1 paragraph) description of why your mutation/crossover functions work well, or why they don't work well. Basically a possible justification of the performance.\n",
    "- Traveling Salesman fitness plot\n",
    "- Traveling Salesman final route (cityList)\n",
    "- Traveling Salesman final route plot."
   ]
  },
  {
   "cell_type": "markdown",
   "metadata": {
    "id": "bk5EGfU8np2I"
   },
   "source": [
    "## Conclusion\n",
    "I hope this was a fun, hands-on assignment to continue with GA practice, and analyze results for two common problems. If you want to take this to the next step try to implement a GA on another problem set; see how you would change the breed and mutate functions to handle other types of chromosomes. We’re just scratching the surface here!"
   ]
  },
  {
   "cell_type": "code",
   "execution_count": null,
   "metadata": {
    "id": "UVvu_tzWj5UG"
   },
   "outputs": [],
   "source": []
  }
 ],
 "metadata": {
  "colab": {
   "collapsed_sections": [],
   "name": "COGS 160 Assignment 2 Final.ipynb",
   "provenance": []
  },
  "kernelspec": {
   "display_name": "Python 3",
   "language": "python",
   "name": "python3"
  },
  "language_info": {
   "codemirror_mode": {
    "name": "ipython",
    "version": 3
   },
   "file_extension": ".py",
   "mimetype": "text/x-python",
   "name": "python",
   "nbconvert_exporter": "python",
   "pygments_lexer": "ipython3",
   "version": "3.8.5"
  }
 },
 "nbformat": 4,
 "nbformat_minor": 1
}
